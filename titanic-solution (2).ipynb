{
 "cells": [
  {
   "cell_type": "markdown",
   "id": "fb17f087",
   "metadata": {
    "papermill": {
     "duration": 0.015639,
     "end_time": "2022-07-06T06:07:04.992826",
     "exception": false,
     "start_time": "2022-07-06T06:07:04.977187",
     "status": "completed"
    },
    "tags": []
   },
   "source": [
    "# Titanic"
   ]
  },
  {
   "cell_type": "markdown",
   "id": "427e7c12",
   "metadata": {
    "papermill": {
     "duration": 0.019042,
     "end_time": "2022-07-06T06:07:05.055386",
     "exception": false,
     "start_time": "2022-07-06T06:07:05.036344",
     "status": "completed"
    },
    "tags": []
   },
   "source": [
    "The Titanic disaster is a maritime disaster that occurred on April 15, 1912. The RMS Titanic was a British passenger liner that sank during her maiden voyage from Southampton to New York City. More than 1,500 people died in the sinking, including passengers and crew members. It was the worst peacetime maritime disaster in history at the time of its occurrence, and remains the deadliest peacetime maritime disaster in modern times.\n",
    "\n",
    "Suffice it to say, I will analyse a correlation between chances to survive and another properties such as sex, age and etc. All the rults will be presented in graphical and numerical views.\n",
    "\n",
    "____________________________________________________________________________________________________________________\n",
    "\n",
    "*Dataset description*\n",
    "\n",
    " - survival: Survival (0 = No, 1 = Yes)\n",
    "\n",
    " - pclass: Ticket class (1 = 1st, 2 = 2nd, 3 = 3rd)\n",
    "\n",
    " - sex: Sex\n",
    "\n",
    " - Age: Age in years\n",
    "\n",
    " - sibsp: # of siblings / spouses aboard the Titanic\n",
    "\n",
    " - parch: # of parents / children aboard the Titanic\n",
    "\n",
    " - ticket: Ticket number\n",
    "\n",
    " - fare: Passenger fare\n",
    "\n",
    " - cabin: Cabin number\n",
    "\n",
    " - embarked: Port of Embarkation (C = Cherbourg, Q = Queenstown, S = Southampton)"
   ]
  },
  {
   "cell_type": "markdown",
   "id": "f4c51c9e",
   "metadata": {
    "papermill": {
     "duration": 0.014405,
     "end_time": "2022-07-06T06:07:05.085306",
     "exception": false,
     "start_time": "2022-07-06T06:07:05.070901",
     "status": "completed"
    },
    "tags": []
   },
   "source": [
    "### Importing relevant components"
   ]
  },
  {
   "cell_type": "code",
   "execution_count": 4,
   "id": "cada32ef",
   "metadata": {
    "execution": {
     "iopub.execute_input": "2022-07-06T06:07:05.164578Z",
     "iopub.status.busy": "2022-07-06T06:07:05.163987Z",
     "iopub.status.idle": "2022-07-06T06:07:06.636944Z",
     "shell.execute_reply": "2022-07-06T06:07:06.635894Z"
    },
    "papermill": {
     "duration": 1.492419,
     "end_time": "2022-07-06T06:07:06.639393",
     "exception": false,
     "start_time": "2022-07-06T06:07:05.146974",
     "status": "completed"
    },
    "tags": []
   },
   "outputs": [],
   "source": [
    "import numpy as np\n",
    "import pandas as pd\n",
    "import matplotlib.pyplot as plt\n",
    "import seaborn as sns"
   ]
  },
  {
   "cell_type": "markdown",
   "id": "cc81ce7d",
   "metadata": {},
   "source": [
    "### Reading data"
   ]
  },
  {
   "cell_type": "code",
   "execution_count": 18,
   "id": "45c6d8b1",
   "metadata": {
    "execution": {
     "iopub.execute_input": "2022-07-06T06:07:06.726206Z",
     "iopub.status.busy": "2022-07-06T06:07:06.725818Z",
     "iopub.status.idle": "2022-07-06T06:07:06.761933Z",
     "shell.execute_reply": "2022-07-06T06:07:06.760977Z"
    },
    "papermill": {
     "duration": 0.053539,
     "end_time": "2022-07-06T06:07:06.764012",
     "exception": false,
     "start_time": "2022-07-06T06:07:06.710473",
     "status": "completed"
    },
    "tags": []
   },
   "outputs": [
    {
     "data": {
      "text/html": [
       "<div>\n",
       "<style scoped>\n",
       "    .dataframe tbody tr th:only-of-type {\n",
       "        vertical-align: middle;\n",
       "    }\n",
       "\n",
       "    .dataframe tbody tr th {\n",
       "        vertical-align: top;\n",
       "    }\n",
       "\n",
       "    .dataframe thead th {\n",
       "        text-align: right;\n",
       "    }\n",
       "</style>\n",
       "<table border=\"1\" class=\"dataframe\">\n",
       "  <thead>\n",
       "    <tr style=\"text-align: right;\">\n",
       "      <th></th>\n",
       "      <th>Survived</th>\n",
       "      <th>Pclass</th>\n",
       "      <th>Name</th>\n",
       "      <th>Sex</th>\n",
       "      <th>Age</th>\n",
       "      <th>SibSp</th>\n",
       "      <th>Parch</th>\n",
       "      <th>Ticket</th>\n",
       "      <th>Fare</th>\n",
       "      <th>Cabin</th>\n",
       "      <th>Embarked</th>\n",
       "    </tr>\n",
       "    <tr>\n",
       "      <th>PassengerId</th>\n",
       "      <th></th>\n",
       "      <th></th>\n",
       "      <th></th>\n",
       "      <th></th>\n",
       "      <th></th>\n",
       "      <th></th>\n",
       "      <th></th>\n",
       "      <th></th>\n",
       "      <th></th>\n",
       "      <th></th>\n",
       "      <th></th>\n",
       "    </tr>\n",
       "  </thead>\n",
       "  <tbody>\n",
       "    <tr>\n",
       "      <th>1</th>\n",
       "      <td>0</td>\n",
       "      <td>3</td>\n",
       "      <td>Braund, Mr. Owen Harris</td>\n",
       "      <td>male</td>\n",
       "      <td>22.0</td>\n",
       "      <td>1</td>\n",
       "      <td>0</td>\n",
       "      <td>A/5 21171</td>\n",
       "      <td>7.2500</td>\n",
       "      <td>NaN</td>\n",
       "      <td>S</td>\n",
       "    </tr>\n",
       "    <tr>\n",
       "      <th>2</th>\n",
       "      <td>1</td>\n",
       "      <td>1</td>\n",
       "      <td>Cumings, Mrs. John Bradley (Florence Briggs Th...</td>\n",
       "      <td>female</td>\n",
       "      <td>38.0</td>\n",
       "      <td>1</td>\n",
       "      <td>0</td>\n",
       "      <td>PC 17599</td>\n",
       "      <td>71.2833</td>\n",
       "      <td>C85</td>\n",
       "      <td>C</td>\n",
       "    </tr>\n",
       "    <tr>\n",
       "      <th>3</th>\n",
       "      <td>1</td>\n",
       "      <td>3</td>\n",
       "      <td>Heikkinen, Miss. Laina</td>\n",
       "      <td>female</td>\n",
       "      <td>26.0</td>\n",
       "      <td>0</td>\n",
       "      <td>0</td>\n",
       "      <td>STON/O2. 3101282</td>\n",
       "      <td>7.9250</td>\n",
       "      <td>NaN</td>\n",
       "      <td>S</td>\n",
       "    </tr>\n",
       "    <tr>\n",
       "      <th>4</th>\n",
       "      <td>1</td>\n",
       "      <td>1</td>\n",
       "      <td>Futrelle, Mrs. Jacques Heath (Lily May Peel)</td>\n",
       "      <td>female</td>\n",
       "      <td>35.0</td>\n",
       "      <td>1</td>\n",
       "      <td>0</td>\n",
       "      <td>113803</td>\n",
       "      <td>53.1000</td>\n",
       "      <td>C123</td>\n",
       "      <td>S</td>\n",
       "    </tr>\n",
       "    <tr>\n",
       "      <th>5</th>\n",
       "      <td>0</td>\n",
       "      <td>3</td>\n",
       "      <td>Allen, Mr. William Henry</td>\n",
       "      <td>male</td>\n",
       "      <td>35.0</td>\n",
       "      <td>0</td>\n",
       "      <td>0</td>\n",
       "      <td>373450</td>\n",
       "      <td>8.0500</td>\n",
       "      <td>NaN</td>\n",
       "      <td>S</td>\n",
       "    </tr>\n",
       "    <tr>\n",
       "      <th>...</th>\n",
       "      <td>...</td>\n",
       "      <td>...</td>\n",
       "      <td>...</td>\n",
       "      <td>...</td>\n",
       "      <td>...</td>\n",
       "      <td>...</td>\n",
       "      <td>...</td>\n",
       "      <td>...</td>\n",
       "      <td>...</td>\n",
       "      <td>...</td>\n",
       "      <td>...</td>\n",
       "    </tr>\n",
       "    <tr>\n",
       "      <th>887</th>\n",
       "      <td>0</td>\n",
       "      <td>2</td>\n",
       "      <td>Montvila, Rev. Juozas</td>\n",
       "      <td>male</td>\n",
       "      <td>27.0</td>\n",
       "      <td>0</td>\n",
       "      <td>0</td>\n",
       "      <td>211536</td>\n",
       "      <td>13.0000</td>\n",
       "      <td>NaN</td>\n",
       "      <td>S</td>\n",
       "    </tr>\n",
       "    <tr>\n",
       "      <th>888</th>\n",
       "      <td>1</td>\n",
       "      <td>1</td>\n",
       "      <td>Graham, Miss. Margaret Edith</td>\n",
       "      <td>female</td>\n",
       "      <td>19.0</td>\n",
       "      <td>0</td>\n",
       "      <td>0</td>\n",
       "      <td>112053</td>\n",
       "      <td>30.0000</td>\n",
       "      <td>B42</td>\n",
       "      <td>S</td>\n",
       "    </tr>\n",
       "    <tr>\n",
       "      <th>889</th>\n",
       "      <td>0</td>\n",
       "      <td>3</td>\n",
       "      <td>Johnston, Miss. Catherine Helen \"Carrie\"</td>\n",
       "      <td>female</td>\n",
       "      <td>NaN</td>\n",
       "      <td>1</td>\n",
       "      <td>2</td>\n",
       "      <td>W./C. 6607</td>\n",
       "      <td>23.4500</td>\n",
       "      <td>NaN</td>\n",
       "      <td>S</td>\n",
       "    </tr>\n",
       "    <tr>\n",
       "      <th>890</th>\n",
       "      <td>1</td>\n",
       "      <td>1</td>\n",
       "      <td>Behr, Mr. Karl Howell</td>\n",
       "      <td>male</td>\n",
       "      <td>26.0</td>\n",
       "      <td>0</td>\n",
       "      <td>0</td>\n",
       "      <td>111369</td>\n",
       "      <td>30.0000</td>\n",
       "      <td>C148</td>\n",
       "      <td>C</td>\n",
       "    </tr>\n",
       "    <tr>\n",
       "      <th>891</th>\n",
       "      <td>0</td>\n",
       "      <td>3</td>\n",
       "      <td>Dooley, Mr. Patrick</td>\n",
       "      <td>male</td>\n",
       "      <td>32.0</td>\n",
       "      <td>0</td>\n",
       "      <td>0</td>\n",
       "      <td>370376</td>\n",
       "      <td>7.7500</td>\n",
       "      <td>NaN</td>\n",
       "      <td>Q</td>\n",
       "    </tr>\n",
       "  </tbody>\n",
       "</table>\n",
       "<p>891 rows × 11 columns</p>\n",
       "</div>"
      ],
      "text/plain": [
       "             Survived  Pclass  \\\n",
       "PassengerId                     \n",
       "1                   0       3   \n",
       "2                   1       1   \n",
       "3                   1       3   \n",
       "4                   1       1   \n",
       "5                   0       3   \n",
       "...               ...     ...   \n",
       "887                 0       2   \n",
       "888                 1       1   \n",
       "889                 0       3   \n",
       "890                 1       1   \n",
       "891                 0       3   \n",
       "\n",
       "                                                          Name     Sex   Age  \\\n",
       "PassengerId                                                                    \n",
       "1                                      Braund, Mr. Owen Harris    male  22.0   \n",
       "2            Cumings, Mrs. John Bradley (Florence Briggs Th...  female  38.0   \n",
       "3                                       Heikkinen, Miss. Laina  female  26.0   \n",
       "4                 Futrelle, Mrs. Jacques Heath (Lily May Peel)  female  35.0   \n",
       "5                                     Allen, Mr. William Henry    male  35.0   \n",
       "...                                                        ...     ...   ...   \n",
       "887                                      Montvila, Rev. Juozas    male  27.0   \n",
       "888                               Graham, Miss. Margaret Edith  female  19.0   \n",
       "889                   Johnston, Miss. Catherine Helen \"Carrie\"  female   NaN   \n",
       "890                                      Behr, Mr. Karl Howell    male  26.0   \n",
       "891                                        Dooley, Mr. Patrick    male  32.0   \n",
       "\n",
       "             SibSp  Parch            Ticket     Fare Cabin Embarked  \n",
       "PassengerId                                                          \n",
       "1                1      0         A/5 21171   7.2500   NaN        S  \n",
       "2                1      0          PC 17599  71.2833   C85        C  \n",
       "3                0      0  STON/O2. 3101282   7.9250   NaN        S  \n",
       "4                1      0            113803  53.1000  C123        S  \n",
       "5                0      0            373450   8.0500   NaN        S  \n",
       "...            ...    ...               ...      ...   ...      ...  \n",
       "887              0      0            211536  13.0000   NaN        S  \n",
       "888              0      0            112053  30.0000   B42        S  \n",
       "889              1      2        W./C. 6607  23.4500   NaN        S  \n",
       "890              0      0            111369  30.0000  C148        C  \n",
       "891              0      0            370376   7.7500   NaN        Q  \n",
       "\n",
       "[891 rows x 11 columns]"
      ]
     },
     "execution_count": 18,
     "metadata": {},
     "output_type": "execute_result"
    }
   ],
   "source": [
    "train = pd.read_csv(\"train.csv\", index_col = \"PassengerId\")\n",
    "train"
   ]
  },
  {
   "cell_type": "code",
   "execution_count": 6,
   "id": "b2b21573",
   "metadata": {
    "execution": {
     "iopub.execute_input": "2022-07-06T06:07:07.260968Z",
     "iopub.status.busy": "2022-07-06T06:07:07.260581Z",
     "iopub.status.idle": "2022-07-06T06:07:07.268741Z",
     "shell.execute_reply": "2022-07-06T06:07:07.268009Z"
    },
    "papermill": {
     "duration": 0.026569,
     "end_time": "2022-07-06T06:07:07.270340",
     "exception": false,
     "start_time": "2022-07-06T06:07:07.243771",
     "status": "completed"
    },
    "tags": []
   },
   "outputs": [
    {
     "data": {
      "text/plain": [
       "Survived      0\n",
       "Pclass        0\n",
       "Name          0\n",
       "Sex           0\n",
       "Age         177\n",
       "SibSp         0\n",
       "Parch         0\n",
       "Ticket        0\n",
       "Fare          0\n",
       "Cabin       687\n",
       "Embarked      2\n",
       "dtype: int64"
      ]
     },
     "execution_count": 6,
     "metadata": {},
     "output_type": "execute_result"
    }
   ],
   "source": [
    "train.isna().sum()"
   ]
  },
  {
   "cell_type": "markdown",
   "id": "b0155d94",
   "metadata": {},
   "source": [
    "- Sample size is 40% of the passengers (891 records out of 2,224)\n",
    "- Around 38% samples survived (mean of binary class \"Survived\")\n",
    "- No duplicate values in \"Name\" (count = unique)\n"
   ]
  },
  {
   "cell_type": "markdown",
   "id": "a5104fa4",
   "metadata": {},
   "source": [
    "### Survived people statistics"
   ]
  },
  {
   "cell_type": "code",
   "execution_count": 16,
   "id": "b190b53a",
   "metadata": {},
   "outputs": [
    {
     "name": "stdout",
     "output_type": "stream",
     "text": [
      "549\n",
      "Histogram represents how many people survived (orange bin) and how many did not survive (blue bin)\n",
      "As we can see 549 people did not survive that day, which is 61.62% of all amount of passengers in the data.\n"
     ]
    },
    {
     "data": {
      "image/png": "[encoded data removed]",
      "text/plain": [
       "<Figure size 720x360 with 1 Axes>"
      ]
     },
     "metadata": {
      "needs_background": "light"
     },
     "output_type": "display_data"
    }
   ],
   "source": [
    "# Counting number of people, who did not survive\n",
    "print(train[train['Survived']==0].count()['Survived'])\n",
    "\n",
    "print('Histogram represents how many people survived (orange bin) and how many did not survive (blue bin)')\n",
    "print('As we can see 549 people did not survive that day, which is 61.62% of all amount of passengers in the data.')\n",
    "\n",
    "plt.figure(figsize = (10, 5))\n",
    "sns.countplot(y = \"Survived\", data = train, palette=\"Set3\")\n",
    "plt.title(\"Survived/ Not survived\")\n",
    "plt.yticks([0, 1], [\"Not survived\", \"Survived\"])\n",
    "plt.show()"
   ]
  },
  {
   "cell_type": "markdown",
   "id": "92043efb",
   "metadata": {},
   "source": [
    "### Statistics of survival according to Sex "
   ]
  },
  {
   "cell_type": "code",
   "execution_count": 10,
   "id": "c65e9de7",
   "metadata": {},
   "outputs": [
    {
     "name": "stdout",
     "output_type": "stream",
     "text": [
      "Amount of women:  314\n",
      "Amount of men:  577\n",
      "64.76% of all of passengers are men, which is significantly bigger than amount of women.\n",
      "\n",
      "Histogram represents the ratio of gender differences:\n"
     ]
    },
    {
     "data": {
      "image/png": "[encoded data removed]",
      "text/plain": [
       "<Figure size 720x360 with 1 Axes>"
      ]
     },
     "metadata": {
      "needs_background": "light"
     },
     "output_type": "display_data"
    }
   ],
   "source": [
    "# Replacing categorical data (Female, Male) by binary data(0, 1). Necessary to further calculations.\n",
    "train['Sex'] = train['Sex'].replace(['female','male'],[0,1])\n",
    "\n",
    "# Counting number of people, who did not survive\n",
    "print('Amount of women: ', train[train['Sex']==0].count()['Sex'])\n",
    "print('Amount of men: ', train[train['Sex']==1].count()['Sex'])\n",
    "\n",
    "print('64.76% of all of passengers are men, which is significantly bigger than amount of women.\\n')\n",
    "print('Histogram represents the ratio of gender differences:')\n",
    "\n",
    "plt.figure(figsize = (10, 5))\n",
    "sns.countplot(y = \"Sex\", data = train, palette=\"Set3\")\n",
    "plt.title(\"Gender differences\")\n",
    "plt.yticks([0, 1], [\"Female\", \"Male\"])\n",
    "plt.show()"
   ]
  },
  {
   "cell_type": "code",
   "execution_count": 22,
   "id": "bf3dc6b0",
   "metadata": {},
   "outputs": [
    {
     "name": "stdout",
     "output_type": "stream",
     "text": [
      "According to the statistics amount of men who did not survive is almost three times bigger then women\n",
      "According to the statistics amount of survived women is almost four times bigger then to men\n"
     ]
    },
    {
     "name": "stderr",
     "output_type": "stream",
     "text": [
      "/usr/local/lib/python3.9/site-packages/pandas/plotting/_matplotlib/core.py:1616: MatplotlibDeprecationWarning: normalize=None does not normalize if the sum is less than 1 but this behavior is deprecated since 3.3 until two minor releases later. After the deprecation period the default value will be normalize=True. To prevent normalization pass normalize=False \n",
      "  results = ax.pie(y, labels=blabels, **kwds)\n"
     ]
    },
    {
     "data": {
      "image/png": "[encoded data removed]",
      "text/plain": [
       "<Figure size 720x360 with 1 Axes>"
      ]
     },
     "metadata": {},
     "output_type": "display_data"
    },
    {
     "name": "stdout",
     "output_type": "stream",
     "text": [
      "Pie represents how many women survived(blue part) and not survived(orange part)\n"
     ]
    },
    {
     "name": "stderr",
     "output_type": "stream",
     "text": [
      "/usr/local/lib/python3.9/site-packages/pandas/plotting/_matplotlib/core.py:1616: MatplotlibDeprecationWarning: normalize=None does not normalize if the sum is less than 1 but this behavior is deprecated since 3.3 until two minor releases later. After the deprecation period the default value will be normalize=True. To prevent normalization pass normalize=False \n",
      "  results = ax.pie(y, labels=blabels, **kwds)\n"
     ]
    },
    {
     "data": {
      "image/png": "[encoded data removed]",
      "text/plain": [
       "<Figure size 720x360 with 1 Axes>"
      ]
     },
     "metadata": {},
     "output_type": "display_data"
    },
    {
     "name": "stdout",
     "output_type": "stream",
     "text": [
      "Pie represents how many men survived(orange part) and not survived(blue part)\n"
     ]
    },
    {
     "data": {
      "image/png": "[encoded data removed]",
      "text/plain": [
       "<Figure size 720x360 with 1 Axes>"
      ]
     },
     "metadata": {
      "needs_background": "light"
     },
     "output_type": "display_data"
    },
    {
     "name": "stdout",
     "output_type": "stream",
     "text": [
      "Histogram shows comparison between survived and not survived people according to Sex(class 0 - Female, class 1 - Male)\n"
     ]
    }
   ],
   "source": [
    "print('According to the statistics amount of men who did not survive is almost three times bigger then women')\n",
    "print('According to the statistics amount of survived women is nearly four times bigger then to men')\n",
    "\n",
    "plt.figure(figsize = (10, 5))\n",
    "train.loc[train[\"Sex\"] == 0, \"Survived\"].value_counts().plot.pie(autopct=\"%1.1f%%\")\n",
    "plt.title(\"Percentage of survived women\")\n",
    "plt.show()\n",
    "\n",
    "print('Pie represents how many women survived (blue part) and not survived(orange part)')\n",
    "\n",
    "plt.figure(figsize = (10, 5))\n",
    "train.loc[train[\"Sex\"] == 1, \"Survived\"].value_counts().plot.pie(autopct=\"%1.1f%%\")\n",
    "plt.title(\"Percentage of survived men\")\n",
    "plt.show()\n",
    "\n",
    "print('Pie represents how many men survived(orange part) and not survived(blue part)')\n",
    "\n",
    "\n",
    "plt.figure(figsize = (10, 5))\n",
    "sns.countplot(y = \"Sex\", hue = \"Survived\", data = train, palette=\"Set2\")\n",
    "plt.title(\"Survived according to Sex\")\n",
    "plt.show()\n",
    "\n",
    "print('Histogram shows comparison between survived and not survived people according to Sex(class 0 - Female, class 1 - Male)')"
   ]
  },
  {
   "cell_type": "markdown",
   "id": "ad60a82b",
   "metadata": {},
   "source": [
    "### Statistics of survival according to number of Spouses, siblings and children"
   ]
  },
  {
   "cell_type": "code",
   "execution_count": 15,
   "id": "0d00d7a4",
   "metadata": {},
   "outputs": [
    {
     "data": {
      "image/png": "[encoded data removed]",
      "text/plain": [
       "<Figure size 1440x720 with 1 Axes>"
      ]
     },
     "metadata": {},
     "output_type": "display_data"
    },
    {
     "name": "stdout",
     "output_type": "stream",
     "text": [
      "Amount of people who traveled alone:  608 , which is 68.24%\n",
      "Amount of people who traveled with one sibling or spouse:  209 , which is 23.46%\n",
      "Amount of people who traveled with more than one siblings or spouses:  74 , which is 8.31%\n",
      "From pie we can see that majority of people traveled without siblings or spouses\n"
     ]
    }
   ],
   "source": [
    "# Comparing number of siblings and spouses\n",
    "\n",
    "fig, ax1 = plt.subplots(ncols=1, figsize=(20, 10))\n",
    "\n",
    "train.groupby('SibSp').size().plot(kind='pie',\n",
    "                                   textprops={'fontsize': 10},\n",
    "                                   colors=['r', 'b', 'g'], \n",
    "                                   ax=ax1)\n",
    "\n",
    "plt.show()\n",
    "\n",
    "alone = train[train['SibSp']==0].count()['SibSp']\n",
    "one_sibling = train[train['SibSp']==1].count()['SibSp']\n",
    "more_sibling = train[train['SibSp']>1].count()['SibSp']\n",
    "\n",
    "print('Amount of people who traveled alone: ', alone,', which is 68.24%')\n",
    "print('Amount of people who traveled with one sibling or spouse: ', one_sibling ,', which is 23.46%')\n",
    "print('Amount of people who traveled with more than one siblings or spouses: ', more_sibling ,', which is 8.31%')\n",
    "\n",
    "print('From pie we can see that majority of people traveled without siblings or spouses')"
   ]
  },
  {
   "cell_type": "code",
   "execution_count": 44,
   "id": "ae0d683c",
   "metadata": {},
   "outputs": [
    {
     "data": {
      "image/png": "[encoded data removed]",
      "text/plain": [
       "<Figure size 1440x720 with 1 Axes>"
      ]
     },
     "metadata": {
      "needs_background": "light"
     },
     "output_type": "display_data"
    },
    {
     "name": "stdout",
     "output_type": "stream",
     "text": [
      "Since the records are incomplete, it is possible that the data on passengers who traveled with more than one sibling/spouse have not been preserved, or there really were few such passengers.\n",
      "For simplicity, lets focus on majority of passengers\n",
      "Looking at the ratio of passengers who traveled alone and passengers who traveled with one sibling/spouse, it seems that traveling alone lowered the chances of survival by almost half.\n"
     ]
    }
   ],
   "source": [
    "# Let's see at the correlation between the number of siblings and the chances of survival\n",
    "plt.figure(figsize = (20, 10))\n",
    "sns.countplot(y = \"SibSp\", hue = \"Survived\", data = train, palette=\"Set2\")\n",
    "plt.title(\"Survived/SibSp\")\n",
    "plt.show()\n",
    "\n",
    "print('Since the records are incomplete, it is possible that the data on passengers who traveled with more than one sibling/spouse have not been preserved, or there really were few such passengers.') \n",
    "print('For simplicity, lets focus on majority of passengers')\n",
    "print('Looking at the ratio of passengers who traveled alone and passengers who traveled with one sibling/spouse, it seems that traveling alone lowered the chances of survival by almost half.')"
   ]
  },
  {
   "cell_type": "code",
   "execution_count": 65,
   "id": "f1358a11",
   "metadata": {},
   "outputs": [
    {
     "data": {
      "image/png": "[encoded data removed]",
      "text/plain": [
       "<Figure size 1440x720 with 1 Axes>"
      ]
     },
     "metadata": {},
     "output_type": "display_data"
    },
    {
     "name": "stdout",
     "output_type": "stream",
     "text": [
      "Amount of people who traveled alone:  678 , which is 76.09%\n",
      "Amount of people who traveled with one parent or child:  209 , which is 13.24%\n",
      "Amount of people who traveled with more than one parent or children:  74 , which is 10.66%\n",
      "From pie we can see that majority of people traveled withoud children or parents\n"
     ]
    }
   ],
   "source": [
    "# Comparing number of parents and children\n",
    "\n",
    "fig, ax1 = plt.subplots(ncols=1, figsize=(20, 10))\n",
    "\n",
    "train.groupby('Parch').size().plot(kind='pie',textprops={'fontsize': 8},\n",
    "                                  colors=['r', 'b', 'g'], ax=ax1)\n",
    "\n",
    "plt.show()\n",
    "\n",
    "alone = train[train['Parch']==0].count()['Parch']\n",
    "one = train[train['Parch']==1].count()['Parch']\n",
    "more_then_one = train[train['Parch']>1].count()['Parch']\n",
    "\n",
    "print('Amount of people who traveled alone: ', alone,', which is 76.09%')\n",
    "print('Amount of people who traveled with one parent or child: ', one_sibling ,', which is 13.24%')\n",
    "print('Amount of people who traveled with more than one parent or children: ', more_sibling ,', which is 10.66%')\n",
    "\n",
    "print('From pie we can see that majority of people traveled withoud children or parents')\n"
   ]
  },
  {
   "cell_type": "code",
   "execution_count": 67,
   "id": "c1643396",
   "metadata": {},
   "outputs": [
    {
     "data": {
      "image/png": "[encoded data removed]",
      "text/plain": [
       "<Figure size 1440x720 with 1 Axes>"
      ]
     },
     "metadata": {
      "needs_background": "light"
     },
     "output_type": "display_data"
    },
    {
     "name": "stdout",
     "output_type": "stream",
     "text": [
      "Since the records are incomplete, it is possible that the data on passengers who traveled with more than one parent/children have not been preserved, or there really were few such passengers.\n",
      "For simplicity, lets focus on majority of passengers\n",
      "Looking at the ratio of passengers who traveled alone and passengers who traveled with one parent or child, it seems that traveling alone lowered the chances of survival by almost half.\n"
     ]
    }
   ],
   "source": [
    "# Let's see at the correlation between the number of parents/children and the chances of survival\n",
    "\n",
    "plt.figure(figsize = (20, 10))\n",
    "sns.countplot(y = \"Parch\", hue = \"Survived\", data = train, palette=\"Set2\")\n",
    "plt.title(\"Survived/Parch\")\n",
    "plt.show()\n",
    "\n",
    "\n",
    "print('Since the records are incomplete, it is possible that the data on passengers who traveled with more than one parent/children have not been preserved, or there really were few such passengers.') \n",
    "print('For simplicity, lets focus on majority of passengers')\n",
    "print('Looking at the ratio of passengers who traveled alone and passengers who traveled with one parent or child, it seems that traveling alone lowered the chances of survival by almost half.')"
   ]
  },
  {
   "cell_type": "markdown",
   "id": "fb21e4bc",
   "metadata": {},
   "source": [
    "### Age"
   ]
  },
  {
   "cell_type": "code",
   "execution_count": 71,
   "id": "735c1bdf",
   "metadata": {},
   "outputs": [
    {
     "name": "stdout",
     "output_type": "stream",
     "text": [
      "The average age of passengers was 18-30 years\n"
     ]
    },
    {
     "data": {
      "text/plain": [
       "<AxesSubplot:>"
      ]
     },
     "execution_count": 71,
     "metadata": {},
     "output_type": "execute_result"
    },
    {
     "data": {
      "image/png": "[encoded data removed]",
      "text/plain": [
       "<Figure size 432x288 with 1 Axes>"
      ]
     },
     "metadata": {
      "needs_background": "light"
     },
     "output_type": "display_data"
    }
   ],
   "source": [
    "# Let's see distribution of the ages, \n",
    "# according to previous graphs, it seems like most part of passengers were traveling alone or probably single\n",
    "\n",
    "print('The average age of passengers was 18-30 years')\n",
    "\n",
    "train['Age'].hist()"
   ]
  },
  {
   "cell_type": "code",
   "execution_count": 80,
   "id": "7f956260",
   "metadata": {},
   "outputs": [
    {
     "name": "stdout",
     "output_type": "stream",
     "text": [
      "Each hist represents Survived (class 1) and Not survived (class 0) groups\n",
      "within each group there is a distribution of ages of passengers\n",
      "\n",
      "It seems that the age of most of non-survivors was in the range of 20-40 years.\n",
      "But according to second histogram, the age of most of survivors was also in the range of 20-40 years.\n",
      "The fact that everybody on the board tried to save children is true, because looking at the second graph we can say that children had very high chances of survival \n"
     ]
    },
    {
     "data": {
      "text/plain": [
       "array([<AxesSubplot:title={'center':'0'}>,\n",
       "       <AxesSubplot:title={'center':'1'}>], dtype=object)"
      ]
     },
     "execution_count": 80,
     "metadata": {},
     "output_type": "execute_result"
    },
    {
     "data": {
      "image/png": "[encoded data removed]",
      "text/plain": [
       "<Figure size 432x288 with 2 Axes>"
      ]
     },
     "metadata": {
      "needs_background": "light"
     },
     "output_type": "display_data"
    }
   ],
   "source": [
    "print('Each hist represents Survived (class 1) and Not survived (class 0) groups')\n",
    "print('within each group there is a distribution of ages of passengers\\n')\n",
    "\n",
    "print('It seems that the age of most of non-survivors was in the range of 20-40 years.')\n",
    "print('But according to second histogram, the age of most of survivors was also in the range of 20-40 years.')\n",
    "\n",
    "print('The fact that everybody on the board tried to save children is true, because looking at the second graph we can say that children had very high chances of survival ')\n",
    "\n",
    "train['Age'].hist(by=train['Survived'], bins=25)\n",
    "\n"
   ]
  },
  {
   "cell_type": "markdown",
   "id": "45d053bf",
   "metadata": {},
   "source": [
    "### Pclass\n"
   ]
  },
  {
   "cell_type": "code",
   "execution_count": 84,
   "id": "29764775",
   "metadata": {},
   "outputs": [
    {
     "name": "stdout",
     "output_type": "stream",
     "text": [
      "Number of passengers with first class tickets:  216\n",
      "Number of passengers with second class tickets:  184\n",
      "Number of passengers with third class tickets:  491\n",
      "Majority of passengers bought tickets with cheapest price(third class)\n"
     ]
    }
   ],
   "source": [
    "# Comparison of the number of passengers with tickets of different classes\n",
    "\n",
    "print('Number of passengers with first class tickets: ', train['Pclass'].value_counts(ascending=False)[1])\n",
    "print('Number of passengers with second class tickets: ', train['Pclass'].value_counts(ascending=False)[2])\n",
    "print('Number of passengers with third class tickets: ', train['Pclass'].value_counts(ascending=False)[3])\n",
    "\n",
    "print('Majority of passengers bought tickets with cheapest price(third class)')"
   ]
  },
  {
   "cell_type": "code",
   "execution_count": 88,
   "id": "050e83f8",
   "metadata": {
    "scrolled": true
   },
   "outputs": [
    {
     "data": {
      "image/png": "[encoded data removed]",
      "text/plain": [
       "<Figure size 1440x720 with 1 Axes>"
      ]
     },
     "metadata": {
      "needs_background": "light"
     },
     "output_type": "display_data"
    },
    {
     "name": "stdout",
     "output_type": "stream",
     "text": [
      "Judging by the histogram, most of the passengers who not survived are third-class ticket holders.\n",
      "Such passengers had three times less chances of survival.\n",
      "Perhaps the reason for this is that the owners of expensive tickets lived in the upper cabins and they had more time to escape, or probably such people were rich and privileged.\n"
     ]
    }
   ],
   "source": [
    "# Let's look at whether the ticket price affected the chances of survival\n",
    "plt.figure(figsize = (20, 10))\n",
    "sns.countplot(y = \"Pclass\", hue = \"Survived\", data = train, palette=\"Set2\")\n",
    "plt.title(\"Survived VS Pclass\")\n",
    "plt.show()\n",
    "\n",
    "\n",
    "print('Judging by the histogram, most of the passengers who not survived are third-class ticket holders.')\n",
    "print('Such passengers had three times less chances of survival.')\n",
    "print('Perhaps the reason for this is that the owners of expensive tickets lived in the upper cabins and they had more time to escape, or probably such people were rich and privileged.')"
   ]
  },
  {
   "cell_type": "code",
   "execution_count": 98,
   "id": "23277316",
   "metadata": {},
   "outputs": [
    {
     "name": "stdout",
     "output_type": "stream",
     "text": [
      "            Survived\n",
      "Pclass Sex          \n",
      "1      0        96.8\n",
      "       1        36.9\n",
      "2      0        92.1\n",
      "       1        15.7\n",
      "3      0        50.0\n",
      "       1        13.5\n",
      "As proof that a higher ticket class increased the chances of survival. \n",
      "More then 90% percent of Class 1 and 2 ticket holders survived, \n",
      "which is twice as much as the statistics for third-class ticket holders\n",
      "\n",
      "Of course, it is mandatory to emphasize that most of the survivors are women.\n",
      "Also, do not forget that these statistics are not accurate enough, since most of the records about ticket holders have been lost.\n",
      "\n",
      "\n",
      "There we can see the number of passengers records for each class of tickets: \n",
      "\n",
      "             Survived\n",
      "Pclass Sex          \n",
      "1      0          94\n",
      "       1         122\n",
      "2      0          76\n",
      "       1         108\n",
      "3      0         144\n",
      "       1         347\n"
     ]
    }
   ],
   "source": [
    "# Let's count percentage of passengers who survived according to their tickets.\n",
    "print(round(train[['Sex', 'Pclass','Survived']].\\\n",
    "                       groupby(['Pclass', 'Sex']).mean()*100,1))\n",
    "\n",
    "print('As proof that a higher ticket class increased the chances of survival. ')\n",
    "print('More then 90% percent of Class 1 and 2 ticket holders survived, ')\n",
    "print('which is twice as much as the statistics for third-class ticket holders\\n')\n",
    "\n",
    "\n",
    "print('Of course, it is mandatory to emphasize that most of the survivors are women.')\n",
    "print('Also, do not forget that these statistics are not accurate enough, since most of the records about ticket holders have been lost.\\n\\n')\n",
    "\n",
    "print('There we can see the number of passengers records for each class of tickets: \\n\\n', train[['Sex', 'Pclass','Survived']].groupby \\\n",
    "                       (['Pclass', 'Sex']).count())"
   ]
  },
  {
   "cell_type": "code",
   "execution_count": 104,
   "id": "bb618e35",
   "metadata": {},
   "outputs": [
    {
     "name": "stdout",
     "output_type": "stream",
     "text": [
      "Survived passengers with Pclass 1 above Age 60: 29.4 %\n",
      "Survived passengers with Pclass 2 above Age 60: 25.0 %\n",
      "Survived passengers with Pclass 3 above Age 60: 20.0 %\n",
      "\n",
      "Survived passengers with Pclass1 between 20-30 Age: 72.5 %\n",
      "Survived passengers with Pclass2 between 20-30 Age: 41.0 %\n",
      "Survived passengers with Pclass3 between 20-30 Age: 22.6 %\n",
      "\n",
      "Survived passengers with Pclass 1 under Age 20: 81.0 %\n",
      "Survived passengers with Pclass 2 under Age 20: 74.3 %\n",
      "Survived passengers with Pclass 3 under Age 20: 33.3 %\n",
      "\n",
      "\n",
      "Judging by the statistics, elderly passengers had the least chance of survival, regardless of the ticket class.\n",
      "The highest chances of survival were for first class ticket holders aged betweeb 20-30 years and the children with tickets of first and second class\n",
      "Unfortunately, the holders of third tickets, even children, had the worst chances of survival\n"
     ]
    }
   ],
   "source": [
    "# Let's look at correlation between classes of tickets, ages and chances of survival\n",
    "\n",
    "print('Survived passengers with Pclass 1 above Age 60:', round(len(train[(train['Pclass']==1) & \\\n",
    "    (train['Age']>59) & (train['Survived']==True)])/len(train[(train\\\n",
    "    ['Pclass']==1) & (train['Age']>59)])*100, 1), '%')\n",
    "\n",
    "print('Survived passengers with Pclass 2 above Age 60:', round(len(train[(train['Pclass']==2) & \\\n",
    "    (train['Age']>59) & (train['Survived']==True)])/len(train[(train \\\n",
    "    ['Pclass']==2) & (train['Age']>59)])*100, 1), '%')\n",
    "\n",
    "print('Survived passengers with Pclass 3 above Age 60:', round(len(train[(train['Pclass']==3) & \\\n",
    "    (train['Age']>59) & (train['Survived']==True)])/len(train[(train \\\n",
    "    ['Pclass']==3) & (train['Age']>59)])*100, 1), '%')\n",
    "\n",
    "print('\\nSurvived passengers with Pclass1 between 20-30 Age:',round(len(train[(train['Pclass']==1) \\\n",
    "    &(train['Age']>19) & (train['Age']<31) & (train['Survived']==True)])/len( \\\n",
    "    train[(train['Pclass']==1) & (train['Age']>19) \\\n",
    "    & (train['Age']<31)])*100, 1),'%')\n",
    "\n",
    "print('Survived passengers with Pclass2 between 20-30 Age:',round(len(train[(train['Pclass']==2) \\\n",
    "    &(train['Age']>19) & (train['Age']<31) &(train['Survived']==True)])/len( \\\n",
    "    train[(train['Pclass']==2)&(train['Age']>19) \\\n",
    "    &(train['Age']<31)])*100, 1),'%')\n",
    "\n",
    "print('Survived passengers with Pclass3 between 20-30 Age:',round(len(train[(train['Pclass']==3) \\\n",
    "    &(train['Age']>19) & (train['Age']<31) &(train['Survived']==True)])/len( \\\n",
    "    train[(train['Pclass']==3) & (train['Age']>19) \\\n",
    "    &(train['Age']<31)])*100, 1),'%')\n",
    "\n",
    "print('\\nSurvived passengers with Pclass 1 under Age 20:', round(len(train[(train['Pclass']==1) & \\\n",
    "    (train['Age']<=19) & (train['Survived']==True)])/len(train[(train\\\n",
    "    ['Pclass']==1) & (train['Age']<=19)])*100, 1), '%')\n",
    "\n",
    "print('Survived passengers with Pclass 2 under Age 20:', round(len(train[(train['Pclass']==2) & \\\n",
    "    (train['Age']<=19) & (train['Survived']==True)])/len(train[(train \\\n",
    "    ['Pclass']==2) & (train['Age']<=19)])*100, 1), '%')\n",
    "\n",
    "print('Survived passengers with Pclass 3 under Age 20:', round(len(train[(train['Pclass']==3) & \\\n",
    "    (train['Age']<=19) & (train['Survived']==True)])/len(train[(train \\\n",
    "    ['Pclass']==3) & (train['Age']<=19)])*100, 1), '%')\n",
    "\n",
    "print('\\n\\nJudging by the statistics, elderly passengers had the least chance of survival, regardless of the ticket class.')\n",
    "print('The highest chances of survival were for first class ticket holders aged betweeb 20-30 years and the children with tickets of first and second class\\n')\n",
    "print('Unfortunately, the holders of third tickets, even children, had the worst chances of survival')"
   ]
  },
  {
   "cell_type": "markdown",
   "id": "2ab78781",
   "metadata": {},
   "source": [
    "### Summury"
   ]
  },
  {
   "cell_type": "markdown",
   "id": "a8a0b405",
   "metadata": {},
   "source": [
    "From the above, the following conclusions can be drawn:\n",
    "\n",
    "Despite the fact that there were almost twice as many men on the ship as women, more women managed to escape. According to statistics, the number of men who did not survive is almost three times greater than women. Consequently, it can be assumed that the men of that time were full of valor and honor in front of women.\n",
    "\n",
    "The same cultural aspect can be attributed to a large percentage of survival among children and adolescents. The male passengers probably bravely risked and sacrificed their lives to save the young.\n",
    "\n",
    "The chances of survival plummeted if someone traveled alone. Quite an interesting observation, most likely related to a kind of sense of responsibility to a loved one.\n",
    "\n",
    "Demographic analysis showed that the age of the majority of survivors was also in the range of 20-40 years. These data once again confirm that the children had very high chances of survival.\n",
    "\n",
    "There is a close relationship between the cost of the tariff and survival. The more the passenger pays, the higher his chances of survival will be. This indicator is a possible proof of inequality in society. A rich man had a chance to buy a cabin above the floor, closer to the lifeboat. Based on the histogram, most of the passengers who did not survive were third-class ticket holders. Such passengers were three times less likely to survive.\n",
    "\n",
    "Also, do not forget that these statistics are not accurate enough since most of the records of ticket holders have been lost.\n",
    "\n",
    "The achieved accuracy clearly demonstrates that if you get to know and analyze the data properly, you may draw hypotheses that will aid in the implementation of the prediction rule based only on logical conclusions."
   ]
  },
  {
   "cell_type": "code",
   "execution_count": null,
   "id": "a9677850",
   "metadata": {},
   "outputs": [],
   "source": []
  }
 ],
 "metadata": {
  "kernelspec": {
   "display_name": "Python 3 (ipykernel)",
   "language": "python",
   "name": "python3"
  },
  "language_info": {
   "codemirror_mode": {
    "name": "ipython",
    "version": 3
   },
   "file_extension": ".py",
   "mimetype": "text/x-python",
   "name": "python",
   "nbconvert_exporter": "python",
   "pygments_lexer": "ipython3",
   "version": "3.9.7"
  },
  "papermill": {
   "default_parameters": {},
   "duration": 25.470341,
   "end_time": "2022-07-06T06:07:21.786214",
   "environment_variables": {},
   "exception": null,
   "input_path": "__notebook__.ipynb",
   "output_path": "__notebook__.ipynb",
   "parameters": {},
   "start_time": "2022-07-06T06:06:56.315873",
   "version": "2.3.4"
  }
 },
 "nbformat": 4,
 "nbformat_minor": 5
}
